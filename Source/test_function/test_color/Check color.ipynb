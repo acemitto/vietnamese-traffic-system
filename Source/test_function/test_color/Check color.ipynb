{
 "cells": [
  {
   "cell_type": "code",
   "execution_count": 1,
   "metadata": {},
   "outputs": [],
   "source": [
    "import cv2\n",
    "import numpy as np"
   ]
  },
  {
   "cell_type": "code",
   "execution_count": 3,
   "metadata": {},
   "outputs": [],
   "source": [
    "image_path = '/Users/acemitto/Desktop/STUDY/ACE/CAPSTONE/vietnamese-traffic-system/Source/Traffic-Rule-Violation-Detection-System-master/Test_color/green.png'\n",
    "img = cv2.imread(image_path)"
   ]
  },
  {
   "cell_type": "code",
   "execution_count": 25,
   "metadata": {},
   "outputs": [
    {
     "name": "stdout",
     "output_type": "stream",
     "text": [
      "[[[ 90 255 255]]]\n"
     ]
    }
   ],
   "source": [
    "# min and max HSV values\n",
    "red_min = np.array([0,5,150])\n",
    "red_max = np.array([8,255,255])\n",
    "red_min2 = np.array([175,5,150])\n",
    "red_max2 = np.array([180,255,255])\n",
    "\n",
    "yellow_min = np.array([20,5,150])\n",
    "yellow_max = np.array([30,255,255])\n",
    "\n",
    "green_min = np.array([35,5,150])\n",
    "green_max = np.array([90,255,255])\n",
    "\n",
    "\n",
    "greenRGB = np.uint8([[[0,255,255]]])\n",
    "greenHSV = cv2.cvtColor(greenRGB, cv2.COLOR_RGB2HSV) \n",
    "print(greenHSV)"
   ]
  },
  {
   "cell_type": "code",
   "execution_count": 26,
   "metadata": {},
   "outputs": [
    {
     "name": "stdout",
     "output_type": "stream",
     "text": [
      "[[[ 90 255 255]]]\n"
     ]
    }
   ],
   "source": [
    "greenRGB = np.uint8([[[0,255,255]]])\n",
    "greenHSV = cv2.cvtColor(greenRGB, cv2.COLOR_RGB2HSV) \n",
    "print(greenHSV)"
   ]
  },
  {
   "cell_type": "code",
   "execution_count": 27,
   "metadata": {},
   "outputs": [
    {
     "name": "stdout",
     "output_type": "stream",
     "text": [
      "[[[150 150 147]]]\n"
     ]
    }
   ],
   "source": [
    "HSV = np.uint8([[[35,5,150]]])\n",
    "RGB = cv2.cvtColor(HSV, cv2.COLOR_HSV2RGB) \n",
    "print(RGB)"
   ]
  },
  {
   "cell_type": "code",
   "execution_count": 14,
   "metadata": {},
   "outputs": [
    {
     "name": "stdout",
     "output_type": "stream",
     "text": [
      "[[[100  42 109]\n",
      "  [ 98  36 113]\n",
      "  [ 98  32 118]\n",
      "  ...\n",
      "  [ 97  43 132]\n",
      "  [ 98  35 161]\n",
      "  [ 10   8  93]]\n",
      "\n",
      " [[ 99  30 118]\n",
      "  [ 96  31 115]\n",
      "  [ 99  31 117]\n",
      "  ...\n",
      "  [101  40 154]\n",
      "  [104  38 167]\n",
      "  [ 10   8  93]]\n",
      "\n",
      " [[ 97  28 120]\n",
      "  [ 95  26 116]\n",
      "  [ 99  30 119]\n",
      "  ...\n",
      "  [101  38 163]\n",
      "  [103  38 168]\n",
      "  [ 10   8  93]]\n",
      "\n",
      " ...\n",
      "\n",
      " [[ 75   3 154]\n",
      "  [ 45   3 153]\n",
      "  [ 30   2 151]\n",
      "  ...\n",
      "  [101  56  73]\n",
      "  [102  68  75]\n",
      "  [ 15   5 100]]\n",
      "\n",
      " [[ 45   3 158]\n",
      "  [ 30   3 156]\n",
      "  [ 40   5 156]\n",
      "  ...\n",
      "  [102  45  73]\n",
      "  [102  58  75]\n",
      "  [ 20   8 100]]\n",
      "\n",
      " [[ 60   5  52]\n",
      "  [  0   0  51]\n",
      "  [ 30   5  51]\n",
      "  ...\n",
      "  [105  36  28]\n",
      "  [102  44  29]\n",
      "  [  0   0 103]]]\n"
     ]
    }
   ],
   "source": [
    " # convert BGR image to HSV\n",
    "desired_dim = (90, 30)  # width, height\n",
    "rlimg = cv2.cvtColor(img, cv2.COLOR_BGR2RGB)\n",
    "rlimg = cv2.resize(np.array(rlimg), desired_dim, interpolation=cv2.INTER_LINEAR)\n",
    "hsv_img = cv2.cvtColor(rlimg, cv2.COLOR_RGB2HSV)\n",
    "\n",
    "# min and max HSV values\n",
    "red_min = np.array([0,5,150])\n",
    "red_max = np.array([8,255,255])\n",
    "red_min2 = np.array([175,5,150])\n",
    "red_max2 = np.array([180,255,255])\n",
    "\n",
    "yellow_min = np.array([20,5,150])\n",
    "yellow_max = np.array([30,255,255])\n",
    "\n",
    "green_min = np.array([35,5,150])\n",
    "green_max = np.array([90,255,255])\n",
    "\n",
    "# apply red, yellow, green thresh to image\n",
    "# 利用cv2.inRange函数设阈值，去除背景部分\n",
    "red_thresh = cv2.inRange(hsv_img,red_min,red_max)+cv2.inRange(hsv_img,red_min2,red_max2)\n",
    "yellow_thresh = cv2.inRange(hsv_img,yellow_min,yellow_max)\n",
    "green_thresh = cv2.inRange(hsv_img,green_min,green_max)\n",
    "\n",
    "# apply blur to fix noise in thresh\n",
    "# 进行中值滤波\n",
    "red_blur = cv2.medianBlur(red_thresh,5)\n",
    "yellow_blur = cv2.medianBlur(yellow_thresh,5)\n",
    "green_blur = cv2.medianBlur(green_thresh,5)\n",
    "\n",
    "# checks which colour thresh has the most white pixels\n",
    "red = cv2.countNonZero(red_blur)\n",
    "yellow = cv2.countNonZero(yellow_blur)\n",
    "green = cv2.countNonZero(green_blur)\n",
    "print(hsv_img)\n",
    "# the state of the light is the one with the greatest number of white pixels\n",
    "lightColor = max(red,yellow,green)"
   ]
  },
  {
   "cell_type": "code",
   "execution_count": null,
   "metadata": {},
   "outputs": [],
   "source": [
    "int i;   \n",
    "int o;  \n",
    "\n",
    "o=(192-((i<<8)/360))&255;\n",
    "\n",
    "i=((192-o)*360)>>8;"
   ]
  }
 ],
 "metadata": {
  "kernelspec": {
   "display_name": "vts",
   "language": "python",
   "name": "python3"
  },
  "language_info": {
   "codemirror_mode": {
    "name": "ipython",
    "version": 3
   },
   "file_extension": ".py",
   "mimetype": "text/x-python",
   "name": "python",
   "nbconvert_exporter": "python",
   "pygments_lexer": "ipython3",
   "version": "3.10.13"
  }
 },
 "nbformat": 4,
 "nbformat_minor": 2
}
